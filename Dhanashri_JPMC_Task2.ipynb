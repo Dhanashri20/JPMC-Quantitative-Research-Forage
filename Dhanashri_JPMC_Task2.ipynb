{
 "cells": [
  {
   "cell_type": "code",
   "execution_count": 21,
   "id": "3c9dd9de",
   "metadata": {},
   "outputs": [],
   "source": [
    "#Import Libraries\n",
    "import pandas as pd\n",
    "import numpy as np\n",
    "import matplotlib.pyplot as plt\n",
    "import seaborn as sns\n",
    "from scipy import stats\n",
    "import datetime as dt"
   ]
  },
  {
   "cell_type": "code",
   "execution_count": 22,
   "id": "ca60f2f4",
   "metadata": {},
   "outputs": [
    {
     "data": {
      "text/html": [
       "<div>\n",
       "<style scoped>\n",
       "    .dataframe tbody tr th:only-of-type {\n",
       "        vertical-align: middle;\n",
       "    }\n",
       "\n",
       "    .dataframe tbody tr th {\n",
       "        vertical-align: top;\n",
       "    }\n",
       "\n",
       "    .dataframe thead th {\n",
       "        text-align: right;\n",
       "    }\n",
       "</style>\n",
       "<table border=\"1\" class=\"dataframe\">\n",
       "  <thead>\n",
       "    <tr style=\"text-align: right;\">\n",
       "      <th></th>\n",
       "      <th>Dates</th>\n",
       "      <th>Prices</th>\n",
       "    </tr>\n",
       "  </thead>\n",
       "  <tbody>\n",
       "    <tr>\n",
       "      <th>0</th>\n",
       "      <td>10/31/20</td>\n",
       "      <td>10.1</td>\n",
       "    </tr>\n",
       "    <tr>\n",
       "      <th>1</th>\n",
       "      <td>11/30/20</td>\n",
       "      <td>10.3</td>\n",
       "    </tr>\n",
       "    <tr>\n",
       "      <th>2</th>\n",
       "      <td>12/31/20</td>\n",
       "      <td>11.0</td>\n",
       "    </tr>\n",
       "    <tr>\n",
       "      <th>3</th>\n",
       "      <td>1/31/21</td>\n",
       "      <td>10.9</td>\n",
       "    </tr>\n",
       "    <tr>\n",
       "      <th>4</th>\n",
       "      <td>2/28/21</td>\n",
       "      <td>10.9</td>\n",
       "    </tr>\n",
       "  </tbody>\n",
       "</table>\n",
       "</div>"
      ],
      "text/plain": [
       "      Dates  Prices\n",
       "0  10/31/20    10.1\n",
       "1  11/30/20    10.3\n",
       "2  12/31/20    11.0\n",
       "3   1/31/21    10.9\n",
       "4   2/28/21    10.9"
      ]
     },
     "execution_count": 22,
     "metadata": {},
     "output_type": "execute_result"
    }
   ],
   "source": [
    "df = pd.read_csv(\"Nat_Gas.csv\")\n",
    "df.head()"
   ]
  },
  {
   "cell_type": "code",
   "execution_count": 23,
   "id": "4130f07f",
   "metadata": {},
   "outputs": [
    {
     "data": {
      "text/html": [
       "<div>\n",
       "<style scoped>\n",
       "    .dataframe tbody tr th:only-of-type {\n",
       "        vertical-align: middle;\n",
       "    }\n",
       "\n",
       "    .dataframe tbody tr th {\n",
       "        vertical-align: top;\n",
       "    }\n",
       "\n",
       "    .dataframe thead th {\n",
       "        text-align: right;\n",
       "    }\n",
       "</style>\n",
       "<table border=\"1\" class=\"dataframe\">\n",
       "  <thead>\n",
       "    <tr style=\"text-align: right;\">\n",
       "      <th></th>\n",
       "      <th>Dates</th>\n",
       "      <th>Prices</th>\n",
       "    </tr>\n",
       "  </thead>\n",
       "  <tbody>\n",
       "    <tr>\n",
       "      <th>0</th>\n",
       "      <td>2020-10-31</td>\n",
       "      <td>10.1</td>\n",
       "    </tr>\n",
       "    <tr>\n",
       "      <th>1</th>\n",
       "      <td>2020-11-30</td>\n",
       "      <td>10.3</td>\n",
       "    </tr>\n",
       "    <tr>\n",
       "      <th>2</th>\n",
       "      <td>2020-12-31</td>\n",
       "      <td>11.0</td>\n",
       "    </tr>\n",
       "    <tr>\n",
       "      <th>3</th>\n",
       "      <td>2021-01-31</td>\n",
       "      <td>10.9</td>\n",
       "    </tr>\n",
       "    <tr>\n",
       "      <th>4</th>\n",
       "      <td>2021-02-28</td>\n",
       "      <td>10.9</td>\n",
       "    </tr>\n",
       "  </tbody>\n",
       "</table>\n",
       "</div>"
      ],
      "text/plain": [
       "       Dates  Prices\n",
       "0 2020-10-31    10.1\n",
       "1 2020-11-30    10.3\n",
       "2 2020-12-31    11.0\n",
       "3 2021-01-31    10.9\n",
       "4 2021-02-28    10.9"
      ]
     },
     "execution_count": 23,
     "metadata": {},
     "output_type": "execute_result"
    }
   ],
   "source": [
    "df['Dates'] = pd.to_datetime(df['Dates'])\n",
    "df.head()"
   ]
  },
  {
   "cell_type": "code",
   "execution_count": 24,
   "id": "58c074c1",
   "metadata": {},
   "outputs": [
    {
     "data": {
      "text/plain": [
       "[<matplotlib.lines.Line2D at 0x21b62fdce50>]"
      ]
     },
     "execution_count": 24,
     "metadata": {},
     "output_type": "execute_result"
    },
    {
     "data": {
      "image/png": "[encoded data removed]",
      "text/plain": [
       "<Figure size 720x576 with 1 Axes>"
      ]
     },
     "metadata": {
      "needs_background": "light"
     },
     "output_type": "display_data"
    }
   ],
   "source": [
    "plt.figure(figsize = (10,8))\n",
    "plt.plot(df['Dates'],df['Prices'])"
   ]
  },
  {
   "cell_type": "code",
   "execution_count": 25,
   "id": "f1961254",
   "metadata": {},
   "outputs": [
    {
     "data": {
      "text/plain": [
       "Dates\n",
       "2021-06-30    10.0\n",
       "2021-07-31    10.1\n",
       "2021-08-31    10.3\n",
       "Name: Prices, dtype: float64"
      ]
     },
     "execution_count": 25,
     "metadata": {},
     "output_type": "execute_result"
    }
   ],
   "source": [
    "#Injection Dates\n",
    "#As the client has asked for injection before winter therefore chose these below dates:\n",
    "df.set_index(\"Dates\", inplace = True)\n",
    "injection_dates = ['2021-06-30','2021-07-31','2021-08-31']\n",
    "injection_prices = df.loc[injection_dates]['Prices']\n",
    "injection_prices"
   ]
  },
  {
   "cell_type": "code",
   "execution_count": 26,
   "id": "0a14f4b2",
   "metadata": {},
   "outputs": [
    {
     "data": {
      "text/plain": [
       "Dates\n",
       "2021-12-31    11.4\n",
       "2022-01-31    11.5\n",
       "2022-02-28    11.8\n",
       "Name: Prices, dtype: float64"
      ]
     },
     "execution_count": 26,
     "metadata": {},
     "output_type": "execute_result"
    }
   ],
   "source": [
    "#Withdrawal Dates (During winter)\n",
    "withdrawal_dates = ['2021-12-31','2022-01-31','2022-02-28']\n",
    "withdrawal_prices = df.loc[withdrawal_dates]['Prices']\n",
    "withdrawal_prices"
   ]
  },
  {
   "cell_type": "code",
   "execution_count": 52,
   "id": "b48a387b",
   "metadata": {},
   "outputs": [],
   "source": [
    "#Basic Input costs-\n",
    "injection_cost = 10000\n",
    "withdrawal_cost = 10000\n",
    "transportation_costs = 50000\n",
    "max_storage = 2000000\n",
    "max_injection_rate = 450000 #monthly\n",
    "max_withdrawal_rate = 450000 #monthly\n",
    "storage_cost = 100000"
   ]
  },
  {
   "cell_type": "code",
   "execution_count": 53,
   "id": "d2c427a7",
   "metadata": {},
   "outputs": [
    {
     "data": {
      "text/plain": [
       "13680000.0"
      ]
     },
     "execution_count": 53,
     "metadata": {},
     "output_type": "execute_result"
    }
   ],
   "source": [
    "#Planned Injection\n",
    "inject_plan = 0\n",
    "for i in range(0, len(injection_prices)):\n",
    "    inject_plan = inject_plan + injection_prices[i]*max_injection_rate\n",
    "\n",
    "inject_plan"
   ]
  },
  {
   "cell_type": "code",
   "execution_count": 54,
   "id": "8c9adf77",
   "metadata": {},
   "outputs": [
    {
     "data": {
      "text/plain": [
       "15615000.0"
      ]
     },
     "execution_count": 54,
     "metadata": {},
     "output_type": "execute_result"
    }
   ],
   "source": [
    "#Planned Withdrawal\n",
    "withd_plan = 0\n",
    "\n",
    "for i in range(0,len(withdrawal_prices)):\n",
    "     withd_plan = withd_plan + withdrawal_prices[i]*max_withdrawal_rate\n",
    "\n",
    "withd_plan    "
   ]
  },
  {
   "cell_type": "code",
   "execution_count": 55,
   "id": "e45d7938",
   "metadata": {},
   "outputs": [
    {
     "data": {
      "text/plain": [
       "1935000.0"
      ]
     },
     "execution_count": 55,
     "metadata": {},
     "output_type": "execute_result"
    }
   ],
   "source": [
    "#Margin\n",
    "margin = withd_plan - inject_plan\n",
    "margin"
   ]
  },
  {
   "cell_type": "code",
   "execution_count": 56,
   "id": "cabb6a2d",
   "metadata": {},
   "outputs": [
    {
     "data": {
      "text/plain": [
       "9"
      ]
     },
     "execution_count": 56,
     "metadata": {},
     "output_type": "execute_result"
    }
   ],
   "source": [
    "#Storage Time(Monthly)\n",
    "#Calculated using the 1st injection date and last withdrawal date\n",
    "storage_time = len(pd.date_range(start=injection_dates[0], end=withdrawal_dates[-1], freq='M'))\n",
    "storage_time"
   ]
  },
  {
   "cell_type": "code",
   "execution_count": 57,
   "id": "a6173659",
   "metadata": {},
   "outputs": [
    {
     "data": {
      "text/plain": [
       "900000"
      ]
     },
     "execution_count": 57,
     "metadata": {},
     "output_type": "execute_result"
    }
   ],
   "source": [
    "total_storage_cost = storage_time*storage_cost\n",
    "total_storage_cost"
   ]
  },
  {
   "cell_type": "code",
   "execution_count": 58,
   "id": "131f17a4",
   "metadata": {},
   "outputs": [
    {
     "data": {
      "text/plain": [
       "675000.0"
      ]
     },
     "execution_count": 58,
     "metadata": {},
     "output_type": "execute_result"
    }
   ],
   "source": [
    "# Value of the contract\n",
    "net_margin = (margin - transportation_costs*(len(withdrawal_dates)+len(injection_dates)) - total_storage_cost - \n",
    "                    injection_cost*len(injection_dates) - \n",
    "                     withdrawal_cost*len(withdrawal_dates) )\n",
    "\n",
    "\n",
    "net_margin"
   ]
  },
  {
   "cell_type": "code",
   "execution_count": 66,
   "id": "4851576f",
   "metadata": {},
   "outputs": [],
   "source": [
    "#Pricing Model\n",
    "def price_model(injection_dates, withdrawal_dates, injection_prices, withdrawal_prices, \n",
    "                max_injection_rate, max_withdrawal_rate, max_storage = None, storage_cost=150000):\n",
    "    injection_cost = 10000\n",
    "    withdrawal_cost = 10000\n",
    "    transportation_cost = 50000\n",
    "    injection_plan = 0\n",
    "    withdrawal_plan = 0\n",
    "    for i in range(0, len(injection_prices)):\n",
    "        injection_plan = injection_plan + injection_prices[i]*max_injection_rate\n",
    "    for i in range(0,len(withdrawal_prices)):\n",
    "        withdrawal_plan = withdrawal_plan + withdrawal_prices[i]*max_withdrawal_rate\n",
    "    margin = withdrawal_plan - injection_plan\n",
    "    storage_time = len(pd.date_range(start=injection_dates[0], end=withdrawal_dates[-1], freq='M'))\n",
    "    total_storage_cost = storage_time*storage_cost\n",
    "    #Contract Value\n",
    "    net_margin = (margin - injection_cost*len(injection_dates) - transportation_costs*(len(withdrawal_dates)+\n",
    "                        len(injection_dates)) - withdrawal_cost*len(withdrawal_dates) - total_storage_cost)\n",
    "    return net_margin"
   ]
  },
  {
   "cell_type": "code",
   "execution_count": 67,
   "id": "f425f8f9",
   "metadata": {},
   "outputs": [
    {
     "data": {
      "text/plain": [
       "225000.0"
      ]
     },
     "execution_count": 67,
     "metadata": {},
     "output_type": "execute_result"
    }
   ],
   "source": [
    "price_model(injection_dates, withdrawal_dates, injection_prices, withdrawal_prices, max_injection_rate, max_withdrawal_rate)"
   ]
  },
  {
   "cell_type": "code",
   "execution_count": null,
   "id": "0766e2b9",
   "metadata": {},
   "outputs": [],
   "source": []
  }
 ],
 "metadata": {
  "kernelspec": {
   "display_name": "Python 3 (ipykernel)",
   "language": "python",
   "name": "python3"
  },
  "language_info": {
   "codemirror_mode": {
    "name": "ipython",
    "version": 3
   },
   "file_extension": ".py",
   "mimetype": "text/x-python",
   "name": "python",
   "nbconvert_exporter": "python",
   "pygments_lexer": "ipython3",
   "version": "3.9.12"
  }
 },
 "nbformat": 4,
 "nbformat_minor": 5
}
